{
 "cells": [
  {
   "cell_type": "markdown",
   "metadata": {},
   "source": [
    "Libraries for processing and plotting"
   ]
  },
  {
   "cell_type": "code",
   "execution_count": 15,
   "metadata": {},
   "outputs": [],
   "source": [
    "import pandas as pd\n",
    "from plotly.offline import iplot,init_notebook_mode\n",
    "import plotly.express as px\n",
    "from ipywidgets import widgets\n",
    "import numpy as np"
   ]
  },
  {
   "cell_type": "markdown",
   "metadata": {},
   "source": [
    "Reading csv file"
   ]
  },
  {
   "cell_type": "code",
   "execution_count": 16,
   "metadata": {},
   "outputs": [],
   "source": [
    "df = pd.read_csv('/Users/savag/Desktop/Msc Data Analytics/Data Visualisation/Assigment 2/2011-capitalbikeshare-tripdata.csv')"
   ]
  },
  {
   "cell_type": "markdown",
   "metadata": {},
   "source": [
    "Converting date to Year-Month-Day format"
   ]
  },
  {
   "cell_type": "code",
   "execution_count": 17,
   "metadata": {},
   "outputs": [],
   "source": [
    "df['Start date'] = pd.to_datetime(df['Start date']).dt.date\n",
    "df['End date'] = pd.to_datetime(df['End date']).dt.date"
   ]
  },
  {
   "cell_type": "markdown",
   "metadata": {},
   "source": [
    "Creating iPython widgets"
   ]
  },
  {
   "cell_type": "code",
   "execution_count": 18,
   "metadata": {},
   "outputs": [],
   "source": [
    "dtype = widgets.Dropdown(options=['Pickups','Dropoffs'],value='Pickups',description='Type:',disabled=False)\n",
    "mtype = widgets.Dropdown(options=['Member','Casual','Member+Casual'],value='Member+Casual',description='Mem Type:',disabled=False)\n",
    "dduration = widgets.IntSlider(value=0,min=0, max=60, step=1, description= 'Duration> :')\n",
    "filters = widgets.Box([dtype,mtype,dduration])"
   ]
  },
  {
   "cell_type": "markdown",
   "metadata": {},
   "source": [
    "Specify Pickup or Dropoff, Member type, Duration of the trip"
   ]
  },
  {
   "cell_type": "code",
   "execution_count": 33,
   "metadata": {},
   "outputs": [
    {
     "data": {
      "application/vnd.jupyter.widget-view+json": {
       "model_id": "a0364617aade4693973c371381d4f825",
       "version_major": 2,
       "version_minor": 0
      },
      "text/plain": [
       "Box(children=(Dropdown(description='Type:', options=('Pickups', 'Dropoffs'), value='Pickups'), Dropdown(descri…"
      ]
     },
     "metadata": {},
     "output_type": "display_data"
    }
   ],
   "source": [
    "display(filters)"
   ]
  },
  {
   "cell_type": "markdown",
   "metadata": {},
   "source": [
    "Processing and aggregating data for plotting"
   ]
  },
  {
   "cell_type": "code",
   "execution_count": 34,
   "metadata": {},
   "outputs": [],
   "source": [
    "df1 = df[df['Duration']>filters.children[2].value*60]\n",
    "if filters.children[1].value == 'Member+Casual':\n",
    "    df1 = df\n",
    "    if filters.children[0].value == 'Pickups':\n",
    "        df1 = df1[['Start date','Start station','Duration']]\n",
    "        df1.columns = ['Date','Station','Number']\n",
    "        df1 = df1.groupby(['Date','Station']).count()\n",
    "        df1 = df1.reset_index()                \n",
    "        \n",
    "    elif filters.children[0].value == 'Dropoffs':\n",
    "            df1 = df1[['End date','End station','Duration']]\n",
    "            df1.columns = ['Date','Station','Number']\n",
    "            df1 = df1.groupby(['Date','Station']).count()\n",
    "            df1 = df1.reset_index()\n",
    "\n",
    "else: \n",
    "    df1 = df1[df1['Member type']==filters.children[1].value]\n",
    "    if filters.children[0].value == 'Pickups':\n",
    "            df1 = df1[['Start date','Start station','Duration']]\n",
    "            df1.columns = ['Date','Station','Number']\n",
    "            df1 = df1.groupby(['Date','Station']).count()\n",
    "            df1 = df1.reset_index()\n",
    "        \n",
    "    elif filters.children[0].value == 'Dropoffs':\n",
    "            df1 = df1[['End date','End station','Duration']]\n",
    "            df1.columns = ['Date','Station','Number']\n",
    "            df1 = df1.groupby(['Date','Station']).count()\n",
    "            df1 = df1.reset_index()\n",
    "\n",
    "            \n",
    "name = filters.children[0].value + \" Member type \" + filters.children[1].value + \\\n",
    "        \" Duration more than \" + str(filters.children[2].value) + \" minutes\"\n",
    "filename = name +'.html'"
   ]
  },
  {
   "cell_type": "markdown",
   "metadata": {},
   "source": [
    "Plotting data"
   ]
  },
  {
   "cell_type": "code",
   "execution_count": 35,
   "metadata": {},
   "outputs": [],
   "source": [
    "fig = px.area(df1, x=\"Date\", y=\"Number\", color=\"Station\", title = name, \n",
    "              color_discrete_sequence=px.colors.sequential.Plasma, template=\"plotly_dark\")\n",
    "\n",
    "fig.write_html(file = filename,auto_open = True)"
   ]
  },
  {
   "cell_type": "code",
   "execution_count": null,
   "metadata": {},
   "outputs": [],
   "source": []
  },
  {
   "cell_type": "code",
   "execution_count": null,
   "metadata": {},
   "outputs": [],
   "source": []
  }
 ],
 "metadata": {
  "kernelspec": {
   "display_name": "Python 3",
   "language": "python",
   "name": "python3"
  },
  "language_info": {
   "codemirror_mode": {
    "name": "ipython",
    "version": 3
   },
   "file_extension": ".py",
   "mimetype": "text/x-python",
   "name": "python",
   "nbconvert_exporter": "python",
   "pygments_lexer": "ipython3",
   "version": "3.7.1"
  }
 },
 "nbformat": 4,
 "nbformat_minor": 2
}
